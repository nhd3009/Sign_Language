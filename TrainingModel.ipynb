{
  "cells": [
    {
      "cell_type": "code",
      "execution_count": null,
      "metadata": {
        "id": "XEC0v9auw5Zu"
      },
      "outputs": [],
      "source": [
        "import tensorflow as tf\n",
        "from tensorflow.keras.preprocessing.image import ImageDataGenerator\n",
        "import os\n"
      ]
    },
    {
      "cell_type": "code",
      "source": [
        "!unzip TestData.zip\n",
        "!unzip TrainData.zip"
      ],
      "metadata": {
        "id": "p5IvLyVKHL3A"
      },
      "execution_count": null,
      "outputs": []
    },
    {
      "cell_type": "code",
      "source": [
        "train_datagen = ImageDataGenerator(rescale = 1./255,\n",
        "                                   shear_range = 0.2,\n",
        "                                   zoom_range = 0.2,\n",
        "                                   horizontal_flip = True)"
      ],
      "metadata": {
        "id": "CItQxo9-IM7z"
      },
      "execution_count": null,
      "outputs": []
    },
    {
      "cell_type": "code",
      "source": [
        "test_datagen = ImageDataGenerator(rescale = 1./255)"
      ],
      "metadata": {
        "id": "XeAv78XCJ8oG"
      },
      "execution_count": null,
      "outputs": []
    },
    {
      "cell_type": "code",
      "source": [
        "training_set = train_datagen.flow_from_directory('/content/TrainData',\n",
        "                                                 target_size = (400, 400),\n",
        "                                                 batch_size = 10,\n",
        "                                                 color_mode = 'rgb',\n",
        "                                                 class_mode = 'categorical')"
      ],
      "metadata": {
        "colab": {
          "base_uri": "https://localhost:8080/"
        },
        "id": "TTMPcqDwJ_UJ",
        "outputId": "fb8eee0d-1a09-4e9a-d105-29f92ce25d99"
      },
      "execution_count": null,
      "outputs": [
        {
          "output_type": "stream",
          "name": "stdout",
          "text": [
            "Found 2805 images belonging to 26 classes.\n"
          ]
        }
      ]
    },
    {
      "cell_type": "code",
      "source": [
        "test_set = test_datagen.flow_from_directory('/content/TestData',\n",
        "                                            target_size = (400, 400),\n",
        "                                            batch_size = 10,\n",
        "                                            color_mode = 'rgb',\n",
        "                                            class_mode = 'categorical')"
      ],
      "metadata": {
        "colab": {
          "base_uri": "https://localhost:8080/"
        },
        "id": "NGBI3wz4KG-y",
        "outputId": "9f714606-d96f-404e-a3bf-87a5a0dda76b"
      },
      "execution_count": null,
      "outputs": [
        {
          "output_type": "stream",
          "name": "stdout",
          "text": [
            "Found 1876 images belonging to 26 classes.\n"
          ]
        }
      ]
    },
    {
      "cell_type": "code",
      "source": [
        "classifier = tf.keras.models.Sequential()"
      ],
      "metadata": {
        "id": "sC26AXa8KNWO"
      },
      "execution_count": null,
      "outputs": []
    },
    {
      "cell_type": "code",
      "source": [
        "classifier.add(tf.keras.layers.Conv2D(filters=32,\n",
        "                                     kernel_size=3,\n",
        "                                     padding=\"same\",\n",
        "                                     activation=\"relu\",\n",
        "                                     input_shape=[400, 400, 3]))\n"
      ],
      "metadata": {
        "id": "DA4vxz19Ka50"
      },
      "execution_count": null,
      "outputs": []
    },
    {
      "cell_type": "code",
      "source": [
        "classifier.add(tf.keras.layers.MaxPool2D(pool_size=2,\n",
        "                                         strides=2,\n",
        "                                         padding='valid'))"
      ],
      "metadata": {
        "id": "3gofYN-BKoGk"
      },
      "execution_count": null,
      "outputs": []
    },
    {
      "cell_type": "code",
      "source": [
        "classifier.add(tf.keras.layers.Conv2D(filters=32,\n",
        "                                      kernel_size=3,\n",
        "                                      padding=\"same\",\n",
        "                                      activation=\"relu\"))\n",
        "\n",
        "classifier.add(tf.keras.layers.MaxPool2D(pool_size=2,\n",
        "                                         strides=2,\n",
        "                                         padding='valid'))"
      ],
      "metadata": {
        "id": "xS4Dj8cAKrgk"
      },
      "execution_count": null,
      "outputs": []
    },
    {
      "cell_type": "code",
      "source": [
        "classifier.add(tf.keras.layers.Conv2D(filters=32,\n",
        "                                      kernel_size=3,\n",
        "                                      padding=\"same\",\n",
        "                                      activation=\"relu\"))\n",
        "\n",
        "classifier.add(tf.keras.layers.MaxPool2D(pool_size=2,\n",
        "                                         strides=2,\n",
        "                                         padding='valid'))"
      ],
      "metadata": {
        "id": "bqlJWX7kYKRr"
      },
      "execution_count": null,
      "outputs": []
    },
    {
      "cell_type": "code",
      "source": [
        "classifier.add(tf.keras.layers.Flatten())"
      ],
      "metadata": {
        "id": "_OY_uSBZKup9"
      },
      "execution_count": null,
      "outputs": []
    },
    {
      "cell_type": "code",
      "source": [
        "classifier.add(tf.keras.layers.Dense(units=128,\n",
        "                                     activation='relu'))\n",
        "classifier.add(tf.keras.layers.Dropout(0.40))\n",
        "classifier.add(tf.keras.layers.Dense(units=96, activation='relu'))\n",
        "classifier.add(tf.keras.layers.Dropout(0.40))\n",
        "classifier.add(tf.keras.layers.Dense(units=64, activation='relu'))\n",
        "classifier.add(tf.keras.layers.Dropout(0.40))\n",
        "classifier.add(tf.keras.layers.Dense(units=32, activation='relu'))\n",
        "classifier.add(tf.keras.layers.Dense(units=26, activation='softmax')) # softmax for more than 2"
      ],
      "metadata": {
        "id": "Fv0c-CvRKw9B"
      },
      "execution_count": null,
      "outputs": []
    },
    {
      "cell_type": "code",
      "source": [
        "classifier.compile(optimizer = 'adam',\n",
        "                   loss = 'categorical_crossentropy',\n",
        "                   metrics = ['accuracy'])"
      ],
      "metadata": {
        "id": "D6asBf6GK8_k"
      },
      "execution_count": null,
      "outputs": []
    },
    {
      "cell_type": "code",
      "source": [
        "classifier.summary()"
      ],
      "metadata": {
        "colab": {
          "base_uri": "https://localhost:8080/"
        },
        "id": "S4Pe2GrnK_sB",
        "outputId": "aad0c42c-409c-4e85-8625-e752bb0c426d"
      },
      "execution_count": null,
      "outputs": [
        {
          "output_type": "stream",
          "name": "stdout",
          "text": [
            "Model: \"sequential_2\"\n",
            "_________________________________________________________________\n",
            " Layer (type)                Output Shape              Param #   \n",
            "=================================================================\n",
            " conv2d_4 (Conv2D)           (None, 400, 400, 32)      896       \n",
            "                                                                 \n",
            " max_pooling2d_4 (MaxPoolin  (None, 200, 200, 32)      0         \n",
            " g2D)                                                            \n",
            "                                                                 \n",
            " conv2d_5 (Conv2D)           (None, 200, 200, 32)      9248      \n",
            "                                                                 \n",
            " max_pooling2d_5 (MaxPoolin  (None, 100, 100, 32)      0         \n",
            " g2D)                                                            \n",
            "                                                                 \n",
            " conv2d_6 (Conv2D)           (None, 100, 100, 32)      9248      \n",
            "                                                                 \n",
            " max_pooling2d_6 (MaxPoolin  (None, 50, 50, 32)        0         \n",
            " g2D)                                                            \n",
            "                                                                 \n",
            " flatten_2 (Flatten)         (None, 80000)             0         \n",
            "                                                                 \n",
            " dense_8 (Dense)             (None, 128)               10240128  \n",
            "                                                                 \n",
            " dropout_4 (Dropout)         (None, 128)               0         \n",
            "                                                                 \n",
            " dense_9 (Dense)             (None, 96)                12384     \n",
            "                                                                 \n",
            " dropout_5 (Dropout)         (None, 96)                0         \n",
            "                                                                 \n",
            " dense_10 (Dense)            (None, 64)                6208      \n",
            "                                                                 \n",
            " dropout_6 (Dropout)         (None, 64)                0         \n",
            "                                                                 \n",
            " dense_11 (Dense)            (None, 32)                2080      \n",
            "                                                                 \n",
            " dense_12 (Dense)            (None, 26)                858       \n",
            "                                                                 \n",
            "=================================================================\n",
            "Total params: 10281050 (39.22 MB)\n",
            "Trainable params: 10281050 (39.22 MB)\n",
            "Non-trainable params: 0 (0.00 Byte)\n",
            "_________________________________________________________________\n"
          ]
        }
      ]
    },
    {
      "cell_type": "code",
      "source": [
        "classifier.fit(training_set,\n",
        "                  epochs = 10,\n",
        "                  verbose = 1,\n",
        "                  validation_data = test_set)"
      ],
      "metadata": {
        "colab": {
          "base_uri": "https://localhost:8080/"
        },
        "id": "Q7KICjdPLDHX",
        "outputId": "efe66c7e-c532-450e-dbf6-af580632e595"
      },
      "execution_count": null,
      "outputs": [
        {
          "output_type": "stream",
          "name": "stdout",
          "text": [
            "Epoch 1/10\n",
            "281/281 [==============================] - 104s 371ms/step - loss: 0.9852 - accuracy: 0.6403 - val_loss: 1.0767 - val_accuracy: 0.7191\n",
            "Epoch 2/10\n",
            "281/281 [==============================] - 104s 371ms/step - loss: 0.9854 - accuracy: 0.6538 - val_loss: 0.9885 - val_accuracy: 0.7351\n",
            "Epoch 3/10\n",
            "281/281 [==============================] - 106s 376ms/step - loss: 0.9530 - accuracy: 0.6667 - val_loss: 0.8915 - val_accuracy: 0.7799\n",
            "Epoch 4/10\n",
            "281/281 [==============================] - 106s 378ms/step - loss: 0.9198 - accuracy: 0.6749 - val_loss: 0.8196 - val_accuracy: 0.7926\n",
            "Epoch 5/10\n",
            "281/281 [==============================] - 108s 386ms/step - loss: 0.9260 - accuracy: 0.6777 - val_loss: 0.8556 - val_accuracy: 0.7841\n",
            "Epoch 6/10\n",
            "281/281 [==============================] - 106s 376ms/step - loss: 0.9282 - accuracy: 0.6681 - val_loss: 0.8774 - val_accuracy: 0.7788\n",
            "Epoch 7/10\n",
            "281/281 [==============================] - 104s 370ms/step - loss: 0.9164 - accuracy: 0.6813 - val_loss: 0.8627 - val_accuracy: 0.7575\n",
            "Epoch 8/10\n",
            "281/281 [==============================] - 107s 378ms/step - loss: 0.8654 - accuracy: 0.6877 - val_loss: 0.7764 - val_accuracy: 0.8070\n",
            "Epoch 9/10\n",
            "281/281 [==============================] - 108s 385ms/step - loss: 0.8765 - accuracy: 0.6888 - val_loss: 0.8528 - val_accuracy: 0.7799\n",
            "Epoch 10/10\n",
            " 35/281 [==>...........................] - ETA: 1:28 - loss: 0.7792 - accuracy: 0.7229"
          ]
        }
      ]
    },
    {
      "cell_type": "code",
      "source": [
        "model_json = classifier.to_json()\n",
        "with open(\"model_new.json\", \"w\") as json_file:\n",
        "    json_file.write(model_json)\n",
        "print('Model Saved')\n",
        "classifier.save_weights('model_new.h5')\n",
        "print('Weights saved')"
      ],
      "metadata": {
        "colab": {
          "base_uri": "https://localhost:8080/"
        },
        "id": "QkUMFkSJ4JgJ",
        "outputId": "2edea0e0-d300-4734-b3cc-a595b5545411"
      },
      "execution_count": null,
      "outputs": [
        {
          "output_type": "stream",
          "name": "stdout",
          "text": [
            "Model Saved\n",
            "Weights saved\n"
          ]
        }
      ]
    },
    {
      "cell_type": "code",
      "source": [
        "classifier.save(\"model_new.h5\")\n",
        "print(\"Model saved\")"
      ],
      "metadata": {
        "colab": {
          "base_uri": "https://localhost:8080/"
        },
        "id": "HuCRNXl6sfVu",
        "outputId": "fbca781f-07c9-472d-ccfb-e4fb49ceb367"
      },
      "execution_count": null,
      "outputs": [
        {
          "output_type": "stream",
          "name": "stderr",
          "text": [
            "/usr/local/lib/python3.10/dist-packages/keras/src/engine/training.py:3103: UserWarning: You are saving your model as an HDF5 file via `model.save()`. This file format is considered legacy. We recommend using instead the native Keras format, e.g. `model.save('my_model.keras')`.\n",
            "  saving_api.save_model(\n"
          ]
        },
        {
          "output_type": "stream",
          "name": "stdout",
          "text": [
            "Model saved\n"
          ]
        }
      ]
    },
    {
      "cell_type": "code",
      "source": [
        "from google.colab import drive\n",
        "drive.mount('/content/drive')"
      ],
      "metadata": {
        "colab": {
          "base_uri": "https://localhost:8080/"
        },
        "id": "ehHdg1UdM56L",
        "outputId": "96528e80-5c94-4a29-954a-ac5e6b8c11cd"
      },
      "execution_count": null,
      "outputs": [
        {
          "output_type": "stream",
          "name": "stdout",
          "text": [
            "Mounted at /content/drive\n"
          ]
        }
      ]
    },
    {
      "cell_type": "code",
      "source": [
        "!cp model_new.h5 /content/drive/MyDrive"
      ],
      "metadata": {
        "id": "hSRNh8kBNIUC"
      },
      "execution_count": null,
      "outputs": []
    }
  ],
  "metadata": {
    "colab": {
      "provenance": [],
      "gpuType": "T4"
    },
    "kernelspec": {
      "display_name": "Python 3",
      "name": "python3"
    },
    "language_info": {
      "name": "python"
    },
    "accelerator": "GPU"
  },
  "nbformat": 4,
  "nbformat_minor": 0
}